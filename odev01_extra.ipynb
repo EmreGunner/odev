{
 "cells": [
  {
   "attachments": {},
   "cell_type": "markdown",
   "metadata": {},
   "source": [
    "# Extra soru\n",
    "> kullanıcıyı 2 seçenek ile karşılayın\n",
    ">> 1. seçenek öğrencileri listelemek\n",
    ">> 2. seçenek yeni öğrenci eklemek\n",
    "\n",
    "- öğrenci eklerken ad soyad yaş cinsiyet bilgisi olsun\n",
    "\n",
    "- listelerken sırayla hepsini gösterin\n",
    "\n",
    "- dictionary kullanabilirsiniz\n"
   ]
  },
  {
   "cell_type": "code",
   "execution_count": 189,
   "metadata": {},
   "outputs": [],
   "source": [
    "degerler = ['adSoyad', 'yas', 'cinsiyet']\n",
    "ogrenciler =  {key: [] for key in degerler}\n"
   ]
  },
  {
   "cell_type": "code",
   "execution_count": 203,
   "metadata": {},
   "outputs": [
    {
     "name": "stdout",
     "output_type": "stream",
     "text": [
      "| AdSoyad      Yas        Cinsiyet  |\n",
      "-----------------------------------\n",
      "| emre       27         erkek      |\n",
      "-----------------------------------\n",
      "| anakin     28         erkek      |\n",
      "-----------------------------------\n",
      "| pelin      29         kadın      |\n",
      "-----------------------------------\n"
     ]
    }
   ],
   "source": [
    "secenek = input(\"Ogrenci eklemek icin 1, Ogrenci listelemek icin 2 ye basın\")\n",
    "ogrenci= []\n",
    "\n",
    "if(secenek == '1'):\n",
    "    ogrenci_adsoyad = input(\"Ogrenci ad soyad girin\")\n",
    "    ogrenci.append(ogrenci_adsoyad)\n",
    "    print(\"Ogrenci Ad Soyad girildi{0}\".format(ogrenci_adsoyad))\n",
    "    \n",
    "    ogrenci_yas = input(\"Ogrenci yaş  girin\")\n",
    "    ogrenci.append(ogrenci_yas)\n",
    "    print(\"Ogrenci Yas {0} girildi\".format(ogrenci_yas))\n",
    "    \n",
    "    ogrenci_cinsiyet = input(\"Ogrenci cinsiyet girin\")\n",
    "    ogrenci.append(ogrenci_cinsiyet)\n",
    "    print(\"Ogrenci Yas {0} girildi\".format(ogrenci_cinsiyet))\n",
    "    print((ogrenci))\n",
    "    for i,deger in enumerate(ogrenciler):\n",
    "        ogrenciler[deger].append(ogrenci[i])\n",
    "        \n",
    "    \n",
    "elif (secenek == '2'):\n",
    "    print (\"| {:<10}  {:<10} {:<10} |\".format(\"AdSoyad \",\" Yas  \",\" Cinsiyet \"))\n",
    "    print(\"-\"*35)\n",
    "    for row in zip(ogrenciler['adSoyad'],ogrenciler['yas'],ogrenciler['cinsiyet']):\n",
    "        print (\"| {:<10} {:<10} {:<10} |\".format(*row))\n",
    "        print(\"-\"*35)\n",
    "    \n",
    "else:\n",
    "    print(\"Yanlis bir deger girdiniz, tekrar calistirin 1 veya 2 girin\")"
   ]
  }
 ],
 "metadata": {
  "kernelspec": {
   "display_name": "Python 3",
   "language": "python",
   "name": "python3"
  },
  "language_info": {
   "codemirror_mode": {
    "name": "ipython",
    "version": 3
   },
   "file_extension": ".py",
   "mimetype": "text/x-python",
   "name": "python",
   "nbconvert_exporter": "python",
   "pygments_lexer": "ipython3",
   "version": "3.10.6"
  },
  "orig_nbformat": 4
 },
 "nbformat": 4,
 "nbformat_minor": 2
}
