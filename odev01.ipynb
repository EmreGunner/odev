{
 "cells": [
  {
   "attachments": {},
   "cell_type": "markdown",
   "metadata": {},
   "source": [
    "<h3>\n",
    "Soru1\n",
    "</h3>"
   ]
  },
  {
   "attachments": {},
   "cell_type": "markdown",
   "metadata": {},
   "source": [
    "<h5> #1 - Kullanıcının girdiği sayıları bir liste içinde saklayarak, bu sayıların ;\n",
    " # toplamını, ortalamasını ve sıralı halini ekrana yazdıran bir program yazın.\n",
    "#- Kullanıcıya kaç sayı girmek istediğini sorun\n",
    "#- Kaç sayı girmek istediyse o adette sayı girişi yapmasını sağlayın\n",
    "#- Toplamı ekrana yazdırın. yazdırma mesajı: Girdiğiniz sayıların toplamı: {toplam}\n",
    "</h5>\n"
   ]
  },
  {
   "cell_type": "code",
   "execution_count": 1,
   "metadata": {},
   "outputs": [
    {
     "name": "stdout",
     "output_type": "stream",
     "text": [
      "Hello Acunmedya Akademi Ses. 1.2.3. Se.\n"
     ]
    }
   ],
   "source": [
    "#Python çalışma kontrolü\n",
    "print(\"Hello Acunmedya Akademi Ses. 1.2.3. Se.\")"
   ]
  },
  {
   "cell_type": "code",
   "execution_count": 10,
   "metadata": {},
   "outputs": [],
   "source": [
    "#sayilar için boş bir liste\n",
    "sayilar = []\n",
    "#- Kaç sayı girmek istediyse o adette sayı girişi yapmasını sağlayın\n",
    "sayac = int(input(\"kaç sayi girilsin? : \"))"
   ]
  },
  {
   "cell_type": "code",
   "execution_count": 11,
   "metadata": {},
   "outputs": [],
   "source": [
    "#Python'da 0 false olarak kabul edilir, sayac 0 olana kadar soru soracak\n",
    "while sayac:\n",
    "    sayilar.append(int(input(\"sayi giriniz : \")))\n",
    "    sayac -= 1\n",
    "\n",
    "    \n",
    "    "
   ]
  },
  {
   "cell_type": "code",
   "execution_count": 35,
   "metadata": {},
   "outputs": [],
   "source": [
    "#toplam icin hazır fonksiyon kullandık\n",
    "toplam = sum(sayilar)\n",
    "#toplamı sayilar listesinin eleman sayisini donduren len fonksiyonuna böldük\n",
    "ortam = toplam / len(sayilar)\n"
   ]
  },
  {
   "cell_type": "code",
   "execution_count": 36,
   "metadata": {},
   "outputs": [],
   "source": [
    "#büyükten küçüğe sırala\n",
    "sayilar.sort(reverse=True)\n"
   ]
  },
  {
   "cell_type": "code",
   "execution_count": 37,
   "metadata": {},
   "outputs": [
    {
     "name": "stdout",
     "output_type": "stream",
     "text": [
      "Girdiğiniz sayıların toplamı: 6\n",
      "Girdiğiniz sayıların ortalaması: 2.0\n",
      "Girdiğiniz sayıların küçükten büyüğe sıralaması: [3, 2, 1]\n"
     ]
    }
   ],
   "source": [
    "#toplam\n",
    "print(\"Girdiğiniz sayıların toplamı: {}\".format(toplam))\n",
    "#ortalama\n",
    "print(\"Girdiğiniz sayıların ortalaması: {}\".format(ortam))\n",
    "#siralama\n",
    "print(\"Girdiğiniz sayıların küçükten büyüğe sıralaması: {}\".format(sayilar))\n"
   ]
  },
  {
   "attachments": {},
   "cell_type": "markdown",
   "metadata": {},
   "source": [
    "<h3> Soru 2 </h3>\n",
    "<h2>\n",
    "- İki listenin ortak elemanlarını bulan ve bu elemanları yeni bir liste içinde saklayan bir program yazın.\n",
    "</h2>"
   ]
  },
  {
   "cell_type": "code",
   "execution_count": 43,
   "metadata": {},
   "outputs": [],
   "source": [
    "#Listeleri tanimla\n",
    "liste1 = [1,2,3,\"4\"]\n",
    "liste2 = [3,4,5]\n",
    "ortak = []\n",
    "\n",
    "\n"
   ]
  },
  {
   "cell_type": "code",
   "execution_count": 44,
   "metadata": {},
   "outputs": [
    {
     "name": "stdout",
     "output_type": "stream",
     "text": [
      "Ortak elemanlar [3]\n"
     ]
    }
   ],
   "source": [
    "#uzun yol \n",
    "#bir liste içindeki elemanları döndür, eğer eleman diğer listede var ise ortak listeye ekle\n",
    "for item in liste1:\n",
    "    if(item in liste2):\n",
    "        ortak.append(item)\n",
    "if(len(ortak)>0):\n",
    "    #Set ayni elemandan birden fazla varsa eler\n",
    "    ortak = list(set(ortak))\n",
    "    print(\"Ortak elemanlar {}\".format(ortak))\n",
    "else:\n",
    "    print(\"liste1 ve liste2nin ortak elemanı yok\")"
   ]
  },
  {
   "cell_type": "code",
   "execution_count": 46,
   "metadata": {},
   "outputs": [
    {
     "name": "stdout",
     "output_type": "stream",
     "text": [
      "[4, 5]\n"
     ]
    }
   ],
   "source": [
    "#kisa yol\n",
    "list1 = [1, 2, 3, 4, 5]\n",
    "list2 = [4, 5, 6, 7, 8]\n",
    "#setli cozum\n",
    "ortak_list = list(set(list1).intersection(set(list2)))\n",
    "\n",
    "#set kullanmadan cozum\n",
    "# ortak_list = [x for x in list1 if x in list2]\n",
    "\n",
    "print(ortak_list)"
   ]
  },
  {
   "attachments": {},
   "cell_type": "markdown",
   "metadata": {},
   "source": [
    "<h3> Soru3 </h3>"
   ]
  },
  {
   "cell_type": "code",
   "execution_count": 59,
   "metadata": {},
   "outputs": [
    {
     "name": "stdout",
     "output_type": "stream",
     "text": [
      "anagram\n"
     ]
    }
   ],
   "source": [
    "#3 - Kullanıcıdan alınan iki kelimenin anagram olup olmadığını kontrol eden bir program yazın.\n",
    "#Kullanici girisleri\n",
    "girdi1 = input(\"Anagram kontrolü icin ilk metni girin : \")\n",
    "girdi2 = input(\"Anagram kontrolü icin ikinci metni girin : \")\n",
    " \n",
    "#3.sorunun cevabını kulanabiliriz, eğer eleman sayisi ve ortak eleman sayisi aynı ise anagramdir.\n",
    "\n",
    "ortak_list = [x for x in girdi1 if x in girdi2]\n",
    "anagram_check = len(girdi1) == len(girdi2) == len(ortak_list)\n",
    "print(\"anagram\") if(anagram_check)  else print(\"anagram değil\")\n"
   ]
  },
  {
   "attachments": {},
   "cell_type": "markdown",
   "metadata": {},
   "source": [
    "<h3> Soru 4 </h3>"
   ]
  },
  {
   "cell_type": "code",
   "execution_count": 107,
   "metadata": {},
   "outputs": [
    {
     "name": "stdout",
     "output_type": "stream",
     "text": [
      "Girlen sifre 123\n",
      "Uzunluk yeterli değil, en az 8 karakter\n",
      "Ozel karakter içermeli. Ozel karakterler :  ('!', '@', '#', '$', '%', '&', '*', '+', '-', '=', '?', '^', '_', '{', '|', '}', '~')\n",
      "Metin içermeli\n",
      "Girlen sifre 123456\n",
      "Uzunluk yeterli değil, en az 8 karakter\n",
      "Ozel karakter içermeli. Ozel karakterler :  ('!', '@', '#', '$', '%', '&', '*', '+', '-', '=', '?', '^', '_', '{', '|', '}', '~')\n",
      "Metin içermeli\n",
      "Girlen sifre 12345678\n",
      "Ozel karakter içermeli. Ozel karakterler :  ('!', '@', '#', '$', '%', '&', '*', '+', '-', '=', '?', '^', '_', '{', '|', '}', '~')\n",
      "Metin içermeli\n",
      "Girlen sifre 12345678!a\n"
     ]
    }
   ],
   "source": [
    "#4 Kullanıcıdan alınan şifrelerin güçlü olup olmadığını kontrol eden ve şifre oluşturma önerileri sunan bir program yazın.\n",
    "#- Şifre içeriğine bakarak içinde harf, rakam, ve özel karakter olup olmadığını kontrol edin\n",
    "#- Özel karakterleri bir tuple içinde tutup özel karakter olup olmadığını kontrol edebilirsiniz\n",
    "\n",
    "ozel_karakterler =  ('!', '@', '#', '$', '%', '&', '*', '+', '-', '=', '?', '^', '_', '{', '|', '}', '~')\n",
    "kriter1,kriter2,kriter3,kriter4 = False\n",
    "\n",
    "while(not(kriter1 and kriter2 and kriter3 and kriter4)):\n",
    "   passwd = input(\"Şifre giriniz : \")\n",
    "   print(\"Girlen sifre {}\".format(passwd))\n",
    "   \n",
    "   kriter1 = len(passwd)>7\n",
    "   if any(i in ozel_karakterler for i in passwd):\n",
    "      kriter2 = True\n",
    "   if any(i.isalpha() for i in passwd):\n",
    "      kriter3 = True\n",
    "   if any(i.isnumeric() for i in passwd):\n",
    "      kriter4 = True\n",
    "\n",
    "   if(not kriter1): print(\"Uzunluk yeterli değil, en az 8 karakter\")\n",
    "   if(not kriter2): print(\"Ozel karakter içermeli. Ozel karakterler : \",ozel_karakterler)\n",
    "   if(not kriter3): print(\"Metin içermeli\")\n",
    "   if(not kriter4): print(\"Sayi içermeli\") \n",
    "print(\"Şifre kabul edildi\")\n",
    "   "
   ]
  },
  {
   "cell_type": "code",
   "execution_count": 91,
   "metadata": {},
   "outputs": [
    {
     "name": "stdout",
     "output_type": "stream",
     "text": [
      "a\n",
      "b\n",
      "c\n",
      "123456789\n",
      "!\n"
     ]
    }
   ],
   "source": [
    "while(not kriter2):\n",
    "    passwd = input(\"Şifre giriniz : \")\n",
    "    print(passwd)\n",
    "    if any(i in ozel_karakterler for i in passwd):\n",
    "        kriter2 = True\n",
    "        \n"
   ]
  },
  {
   "attachments": {},
   "cell_type": "markdown",
   "metadata": {},
   "source": [
    "<h3> Soru 5 </h3>"
   ]
  },
  {
   "cell_type": "code",
   "execution_count": 60,
   "metadata": {},
   "outputs": [],
   "source": [
    "#Bilgi yarışması\n",
    "#- Kullanıcıya 10 tane soru sorun\n",
    "#- Kaç doğru cevap verdi ve yanlışların doğru cevaplarını yazdırın\n",
    "#- İstediğiniz formatta liste kullanabilirsiniz. örneğin eşit sayılı iki liste olabilir.\n",
    "#- Sorular seçmeli olsun, kullanıcı a,b,c,d diye cevap versin"
   ]
  },
  {
   "cell_type": "code",
   "execution_count": null,
   "metadata": {},
   "outputs": [],
   "source": [
    "ilginc_sorular = [\n",
    "    \"Dünyanın en büyük okyanusu nedir?\",\n",
    "    \"Bir domates yürüyüşe nasıl başlar  ?\",\n",
    "    \"Hangi hayvan kendi gölgesinden korkar?\",\n",
    "    \"Hangi meyve ağacı altında uyumazsınız?\",\n",
    "    \"Neden bazı insanlar kornea nakli yaptırdıktan sonra köpek havlaması duyduklarını iddia ederler?\",\n",
    "    \"Bir köpek yılı kaç insan yılına denktir?\",\n",
    "    \"Hangi madde hem bir sıvı hem de bir gaz olabilir?\",\n",
    "    \"Dünyanın en uzun nehrinin adı nedir?\",\n",
    "    \"Hangi ülkede Noel Baba'nın adresi vardır?\",\n",
    "    \"Kangurular geri geri koşamazlar. Bunun nedeni nedir?\"\n",
    "]\n",
    "\n",
    "siklar = [\n",
    "    [\"A) Atlantik Okyanusu\", \"B) Hint Okyanusu\", \"C) Büyük Okyanus\", \"D) Arktik Okyanusu\", \"E) Antarktik Okyanusu\"],\n",
    "    []'[A) Spor ayakkabılarını giyer','B) Bir yürüyüş çantası hazırlar','C) Ayaklarına saç bantları takar','(D) Kendine güvenle bir adım atar','(E) Harekete geçmek için bir salata yapar'\n",
    "    [\"A) Kedi\", \"B) Köpek\", \"C) Aslan\", \"D) Yarasa\", \"E) Sincap\"],\n",
    "    [\"A) Elma ağacı\", \"B) Kayısı ağacı\", \"C) Muz ağacı\", \"D) Nar ağacı\", \"E) Hurma ağacı\"],\n",
    "    [\"A) Psikolojik etki\", \"B) Korneanın işlevi\", \"C) Beynin algılaması\", \"D) Göz kaslarının titreşimi\", \"E) Rüya görmeleri\"],\n",
    "    [\"A) 3\", \"B) 5\", \"C) 7\", \"D) 9\", \"E) 12\"],\n",
    "    [\"A) Su\", \"B) Karbon dioksit\", \"C) Helyum\", \"D) Oksijen\", \"E) Amonyak\"],\n",
    "    [\"A) Nil Nehri\", \"B) Amazon Nehri\", \"C) Yangtze Nehri\", \"D) Kongo Nehri\", \"E) Mississippi Nehri\"],\n",
    "    [\"A) Finlandiya\", \"B) Norveç\", \"C) İzlanda\", \"D) Kuzey Kutbu\", \"E) Ankara\"],\n",
    "    [\"A) Bacakları buna uygun değildir\", \"B) Kuyruğu buna uygun değildir\", \"C) Beyni buna uygun değildir\", \"D) Gözleri buna uygun değildir\", \"E) Ayakları buna uygun değildir\"]\n",
    "]\n",
    "\n",
    "cevaplar = [  \"C\",\"B\",\"D\",\"E\",\"A\",\"C\",\"E\",\"B\",\"C\",\"A\"]"
   ]
  }
 ],
 "metadata": {
  "kernelspec": {
   "display_name": "Python 3",
   "language": "python",
   "name": "python3"
  },
  "language_info": {
   "codemirror_mode": {
    "name": "ipython",
    "version": 3
   },
   "file_extension": ".py",
   "mimetype": "text/x-python",
   "name": "python",
   "nbconvert_exporter": "python",
   "pygments_lexer": "ipython3",
   "version": "3.10.6"
  },
  "orig_nbformat": 4
 },
 "nbformat": 4,
 "nbformat_minor": 2
}
