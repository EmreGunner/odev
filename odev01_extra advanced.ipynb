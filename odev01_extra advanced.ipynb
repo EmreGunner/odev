{
 "cells": [
  {
   "attachments": {},
   "cell_type": "markdown",
   "metadata": {},
   "source": [
    "# Extra soru\n",
    "> kullanıcıyı 2 seçenek ile karşılayın\n",
    ">> 1. seçenek öğrencileri listelemek\n",
    ">> 2. seçenek yeni öğrenci eklemek\n",
    "\n",
    "- öğrenci eklerken ad soyad yaş cinsiyet bilgisi olsun\n",
    "\n",
    "- listelerken sırayla hepsini gösterin\n",
    "\n",
    "- dictionary kullanabilirsiniz\n"
   ]
  },
  {
   "cell_type": "code",
   "execution_count": 1,
   "metadata": {},
   "outputs": [],
   "source": [
    "import csv"
   ]
  },
  {
   "cell_type": "code",
   "execution_count": 23,
   "metadata": {},
   "outputs": [],
   "source": [
    "secenek = input(\"Ogrenci eklemek icin 1, Ogrenci listelemek icin 2 ye basın\")\n",
    "degerler = [\"No\",'adSoyad', 'yas', 'cinsiyet','bolum']\n",
    "ogrenciler =  {key: [] for key in degerler}\n",
    "\n",
    "ogrenci= []\n",
    "\n",
    "if(secenek == '1'):\n",
    "    for key in degerler:\n",
    "       ogrenciler[key] = [input(f\"Ogrenci {key} girin\") ]\n",
    "    \n",
    "    header = degerler\n",
    "    with open('ogrenciler.csv', mode='a', newline='') as file:\n",
    "        writer = csv.writer(file)\n",
    "        writer.writerow(header)\n",
    "        for row in zip(*ogrenciler.values()):\n",
    "            writer.writerow(row)    \n",
    "\n",
    "elif (secenek == '2'):\n",
    "    try:\n",
    "        with open('ogrenciler.csv', mode='r', newline='') as file:\n",
    "            reader = csv.reader(file)\n",
    "            for row in reader:\n",
    "                print(row)\n",
    "    except FileNotFoundError:\n",
    "        print(\"Dosya bulunamadı.\")\n",
    "    \n",
    "else:\n",
    "    print(\"Yanlis bir deger girdiniz, tekrar calistirin 1 veya 2 girin\")"
   ]
  }
 ],
 "metadata": {
  "kernelspec": {
   "display_name": "Python 3",
   "language": "python",
   "name": "python3"
  },
  "language_info": {
   "codemirror_mode": {
    "name": "ipython",
    "version": 3
   },
   "file_extension": ".py",
   "mimetype": "text/x-python",
   "name": "python",
   "nbconvert_exporter": "python",
   "pygments_lexer": "ipython3",
   "version": "3.10.6"
  },
  "orig_nbformat": 4
 },
 "nbformat": 4,
 "nbformat_minor": 2
}
